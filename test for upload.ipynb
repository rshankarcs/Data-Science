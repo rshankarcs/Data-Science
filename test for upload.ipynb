{
 "cells": [
  {
   "cell_type": "markdown",
   "metadata": {
    "_uuid": "dd7ada978314341d2cd84ccf9fdcd510cd661b2f"
   },
   "source": [
    "# Titanic Survival Prediction \n",
    "### This is my first kernel in Python. Hope you guys like it\n"
   ]
  },
  {
   "cell_type": "code",
   "execution_count": null,
   "metadata": {
    "_cell_guid": "b1076dfc-b9ad-4769-8c92-a6c4dae69d19",
    "_uuid": "8f2839f25d086af736a60e9eeb907d3b93b6e0e5"
   },
   "outputs": [],
   "source": [
    "import numpy as np \n",
    "import pandas as pd\n",
    "import warnings \n",
    "warnings.filterwarnings(\"ignore\")\n",
    "import os\n",
    "print(os.listdir(\"../input\"))\n",
    "import matplotlib.pyplot as plt\n",
    "import seaborn as sns"
   ]
  },
  {
   "cell_type": "markdown",
   "metadata": {
    "_uuid": "2e1d0c22997be77f8a2b7ddbdc47a9c141f9cd1e"
   },
   "source": [
    "## Importing and exploring data"
   ]
  },
  {
   "cell_type": "code",
   "execution_count": null,
   "metadata": {
    "_uuid": "4e9fabd25213f76d0d0b09fc1c6721b560fa1a21"
   },
   "outputs": [],
   "source": [
    "train=pd.read_csv(\"../input/train.csv\")"
   ]
  },
  {
   "cell_type": "code",
   "execution_count": null,
   "metadata": {
    "_uuid": "3623aaca97a22b31476474ae2a4adcbc46557b04"
   },
   "outputs": [],
   "source": [
    "train.head()\n"
   ]
  },
  {
   "cell_type": "code",
   "execution_count": null,
   "metadata": {
    "_uuid": "1f3a9fbbc2356931ecc8262a698bddd0bdcdba51"
   },
   "outputs": [],
   "source": [
    "train.describe()"
   ]
  },
  {
   "cell_type": "markdown",
   "metadata": {
    "_uuid": "8fdaa9fab986a419e0ce9e991a76902b1d9312af"
   },
   "source": [
    "## Don't forget to explore object type columns"
   ]
  },
  {
   "cell_type": "code",
   "execution_count": null,
   "metadata": {
    "_uuid": "eac41bfea95b40a040a6115a436c0f413599eeba"
   },
   "outputs": [],
   "source": [
    "train.describe(include=['O'])"
   ]
  },
  {
   "cell_type": "code",
   "execution_count": null,
   "metadata": {
    "_uuid": "fa37a8af674f08e860c7eda6943c404844279137"
   },
   "outputs": [],
   "source": [
    "train.hist(figsize=(10,8))"
   ]
  },
  {
   "cell_type": "code",
   "execution_count": null,
   "metadata": {
    "_uuid": "a819748350072bc862b8e9495c1de772a2969f6d"
   },
   "outputs": [],
   "source": [
    "train.info()"
   ]
  },
  {
   "cell_type": "markdown",
   "metadata": {
    "_uuid": "52493c4d6028e36e84843968087c487b1a59ccc4"
   },
   "source": [
    "## So column Age, Cabin, Embarked have missing values. Let's Start with Age column"
   ]
  },
  {
   "cell_type": "code",
   "execution_count": null,
   "metadata": {
    "_uuid": "e7b5f57f84856ac83510e680ead643e413bc9d72"
   },
   "outputs": [],
   "source": [
    "train.Age.hist(bins=20)"
   ]
  },
  {
   "cell_type": "markdown",
   "metadata": {
    "_uuid": "a7e53eeb1c5edbaac87339fc20673d8afdd67b52"
   },
   "source": [
    "## Age distribution is positive skewed. Need more information to fill missing data. Let's plot Age with PClass"
   ]
  },
  {
   "cell_type": "code",
   "execution_count": null,
   "metadata": {
    "_uuid": "b0bad683ca384c336270bfc8509947403cb3234e"
   },
   "outputs": [],
   "source": [
    "sns.boxplot(x='Pclass',y='Age',data=train,hue='Survived')"
   ]
  },
  {
   "cell_type": "code",
   "execution_count": null,
   "metadata": {
    "_uuid": "105f2843019500a460c9acb5e8f41fd9ffba48d8"
   },
   "outputs": [],
   "source": [
    "print (train.groupby(['Pclass']).get_group(1).Age.mean())\n",
    "print (train.groupby(['Pclass']).get_group(2).Age.mean())\n",
    "print (train.groupby(['Pclass']).get_group(3).Age.mean())"
   ]
  },
  {
   "cell_type": "markdown",
   "metadata": {
    "_uuid": "1900bbe253361d8693697d3caa93ce0e905894d4"
   },
   "source": [
    "## We can fill missing age with mean but age varies for each Pclass so filling missing age with mean will not be proper. Lets fill Age according to Pclass "
   ]
  },
  {
   "cell_type": "code",
   "execution_count": null,
   "metadata": {
    "_uuid": "f8776e61a0e667f4b806779ff493f5d7ee023213"
   },
   "outputs": [],
   "source": [
    "train['Age']=train.groupby(['Pclass','Survived'])['Age'].transform(lambda x:x.fillna(x.mean()))"
   ]
  },
  {
   "cell_type": "code",
   "execution_count": null,
   "metadata": {
    "_uuid": "1ff33a86afc60fc4b133ab9e3c13cffe2fbf0fee"
   },
   "outputs": [],
   "source": [
    "train.info()"
   ]
  },
  {
   "cell_type": "markdown",
   "metadata": {
    "_uuid": "5d176d7ad5020a70f9ab48b04f2f717fb74d3953"
   },
   "source": [
    "# Now lets take a look at Fare column. May be it want to something to us"
   ]
  },
  {
   "cell_type": "code",
   "execution_count": null,
   "metadata": {
    "_uuid": "14213b45a33d226213803157e121409009005951"
   },
   "outputs": [],
   "source": [
    "sns.stripplot(y='Fare',x='Pclass',hue='Survived',data=train)"
   ]
  },
  {
   "cell_type": "markdown",
   "metadata": {
    "_uuid": "dda8828ad8db82fa49a5d81cf1ecfb56063f6146"
   },
   "source": [
    "## From above figure we can say that people who paid higher got 1st Pclass and there chanced of survival are better than other Pclass. \n",
    "## Let's see average Fare based on class"
   ]
  },
  {
   "cell_type": "code",
   "execution_count": null,
   "metadata": {
    "_uuid": "51cb6154b39f91d262f110dcdce77619f94efc4d"
   },
   "outputs": [],
   "source": [
    "train.groupby(['Pclass','Survived'])['Fare'].mean()"
   ]
  },
  {
   "cell_type": "code",
   "execution_count": null,
   "metadata": {
    "_uuid": "db3307f498f05083fd8bdfd3bc95608197aa8f72"
   },
   "outputs": [],
   "source": [
    "plt.hist(train.Fare,bins=30)\n",
    "plt.xlabel('Fare')\n",
    "plt.ylabel('count')"
   ]
  },
  {
   "cell_type": "markdown",
   "metadata": {
    "_uuid": "6f3cf050769f4061efe5e00d4eae78f2a075a5f9"
   },
   "source": [
    "## Most of the people paid 0-80 Fare. Fare varies based on Pclass and Survival. Survived people paid higher fare than people who died. So we need to utilise fare column. Since Fare as an integer column will not be usefull. Lets make it Categorical "
   ]
  },
  {
   "cell_type": "code",
   "execution_count": null,
   "metadata": {
    "_uuid": "da48317c6e90eeb072a06571e76cb8e67c4e7654"
   },
   "outputs": [],
   "source": [
    "train.Fare=np.ceil(train.Fare)\n",
    "train['fare']=pd.cut(train.Fare,bins=[0,8,13,20,30,50,80,600],labels=['a','b','c','d','e','f','g'],right=False)"
   ]
  },
  {
   "cell_type": "code",
   "execution_count": null,
   "metadata": {
    "_uuid": "312576dd8a283cc5d600109f5dadb3a56423e00e"
   },
   "outputs": [],
   "source": [
    "sns.countplot(x='fare',hue='Survived',data=train)"
   ]
  },
  {
   "cell_type": "markdown",
   "metadata": {
    "_uuid": "8aa26a4660144bc573dbbb441d044274452773b6"
   },
   "source": [
    "## Thats look nice!!! As Fare increases (a to g) chances of survival increases.\n",
    "## Fare really wanted to tell us something :)"
   ]
  },
  {
   "cell_type": "markdown",
   "metadata": {
    "_uuid": "e5b520d3e3cbebe59862450ed7df9111414b2218"
   },
   "source": [
    "## Lets see now SibSp and Parch Columns"
   ]
  },
  {
   "cell_type": "code",
   "execution_count": null,
   "metadata": {
    "_uuid": "56a0a5bfa3dd457ba4557d16e1589fd52617ad7a"
   },
   "outputs": [],
   "source": [
    "sns.countplot(x='SibSp',hue='Survived',data=train)"
   ]
  },
  {
   "cell_type": "code",
   "execution_count": null,
   "metadata": {
    "_uuid": "0cb030475f16dcac4132a06b4e9e59da575fb566"
   },
   "outputs": [],
   "source": [
    "sns.countplot(x='Parch',hue='Survived',data=train)"
   ]
  },
  {
   "cell_type": "markdown",
   "metadata": {
    "_uuid": "2453b92e66c76d35b508e9f2d87fc1f75db5ce17"
   },
   "source": [
    "## Lets combine both columns. As both column represent members"
   ]
  },
  {
   "cell_type": "code",
   "execution_count": null,
   "metadata": {
    "_uuid": "c2e79ddfa00cd1ca0086e97e7cde14d1d752c87f"
   },
   "outputs": [],
   "source": [
    "train['members']=train['SibSp']+train['Parch']"
   ]
  },
  {
   "cell_type": "code",
   "execution_count": null,
   "metadata": {
    "_uuid": "9c33d75ff7d42054c505f5d719b4bc70bf3503d2"
   },
   "outputs": [],
   "source": [
    "sns.countplot(x='members',hue='Survived',data=train)"
   ]
  },
  {
   "cell_type": "code",
   "execution_count": null,
   "metadata": {
    "_uuid": "7cb22509be01d937e21c3429468f36bc5675659a"
   },
   "outputs": [],
   "source": [
    "train.members.value_counts()"
   ]
  },
  {
   "cell_type": "code",
   "execution_count": null,
   "metadata": {
    "_uuid": "7d1970a7a2a973c36711b615608d315f1ee475f2"
   },
   "outputs": [],
   "source": [
    "train[train.members>6].Survived.value_counts()\n"
   ]
  },
  {
   "cell_type": "markdown",
   "metadata": {
    "_uuid": "e678462adf2b63ccb6bf88b3e0a5622fa5782bae"
   },
   "source": [
    "## Members with head count of more than 6 never survived in our train dataset so lets make 6+ members that is 7 and 10 members as 7 members"
   ]
  },
  {
   "cell_type": "code",
   "execution_count": null,
   "metadata": {
    "_uuid": "81b3dd0f4de40d4ef23874db11a1b1e42344df5a"
   },
   "outputs": [],
   "source": [
    "train.members.replace({10:7},inplace=True)"
   ]
  },
  {
   "cell_type": "code",
   "execution_count": null,
   "metadata": {
    "_uuid": "704bca7cd5fb63740b92e862e45ff37493c5d9f2"
   },
   "outputs": [],
   "source": [
    "train.head()"
   ]
  },
  {
   "cell_type": "markdown",
   "metadata": {
    "_uuid": "6dd70387b15d2a5ee754c5a39f56fc29e08c22a9"
   },
   "source": [
    "## Now lets choose our feature attributes. Name is not giving us any proper info so lets drop it. Cabin column have various missing values and filling it may affect our prediction so drop it to. Ticket also not needed so drop it."
   ]
  },
  {
   "cell_type": "code",
   "execution_count": null,
   "metadata": {
    "_uuid": "3ed89c4ccd40229803b97270eab84fbee2c33c1e"
   },
   "outputs": [],
   "source": [
    "attributes=['Survived','Pclass','Sex','Age','Embarked','fare','members']"
   ]
  },
  {
   "cell_type": "code",
   "execution_count": null,
   "metadata": {
    "_uuid": "dfe657c2084204773ef69762496b4e020933ede0"
   },
   "outputs": [],
   "source": [
    "train=train[attributes]"
   ]
  },
  {
   "cell_type": "code",
   "execution_count": null,
   "metadata": {
    "_uuid": "b72e6292c7fe386620c331ce341a774ad76904ff"
   },
   "outputs": [],
   "source": [
    "train.head()"
   ]
  },
  {
   "cell_type": "markdown",
   "metadata": {
    "_uuid": "15df123baac143b086d570819552fa8cde78c893"
   },
   "source": [
    "## Wait !!! Embarked also have 2 mising values. So lets do filling. But first we need to explore Embarked column"
   ]
  },
  {
   "cell_type": "code",
   "execution_count": null,
   "metadata": {
    "_uuid": "cc530f9a92077ea64ef15957083b09b36a92c63f"
   },
   "outputs": [],
   "source": [
    "sns.countplot(x='Embarked',hue='Survived',data=train)"
   ]
  },
  {
   "cell_type": "code",
   "execution_count": null,
   "metadata": {
    "_uuid": "f9fbf23dfea9d9950ca40c846791b9e91388a13e"
   },
   "outputs": [],
   "source": [
    "train[train.Embarked.isnull()]"
   ]
  },
  {
   "cell_type": "markdown",
   "metadata": {
    "_uuid": "7b95e5910736f09dd14c577b9e44ebbc019f7bfd"
   },
   "source": [
    "## Two missing values belong to same Pclass and Same Sex with same Fare category ie g. Lets explore further more"
   ]
  },
  {
   "cell_type": "code",
   "execution_count": null,
   "metadata": {
    "_uuid": "e21d46c0488840ea6d2282268136af08f5cf0c28"
   },
   "outputs": [],
   "source": [
    "sns.catplot(kind='point',x='Embarked',y='Pclass',hue='Sex',data=train)"
   ]
  },
  {
   "cell_type": "code",
   "execution_count": null,
   "metadata": {
    "_uuid": "b258759ecc907362fb106f24dea37cf1733ea5c7"
   },
   "outputs": [],
   "source": [
    "train.groupby(['Pclass','Sex']).get_group((1,'female')).Embarked.value_counts()"
   ]
  },
  {
   "cell_type": "markdown",
   "metadata": {
    "_uuid": "ffc19f45cf7a5ea3afea552da3c1b649d233c10e"
   },
   "source": [
    "## So with above exploration we can say that female which belong to Pclass 1 have C Embarked most probably. Lets fill it"
   ]
  },
  {
   "cell_type": "code",
   "execution_count": null,
   "metadata": {
    "_uuid": "6b463c66898414dcc6e9898b0bc38f63778fca48"
   },
   "outputs": [],
   "source": [
    "train.Embarked.fillna('C',inplace=True)"
   ]
  },
  {
   "cell_type": "code",
   "execution_count": null,
   "metadata": {
    "_uuid": "31c0290aca5222e4bbe73ad67b8b8479d17f5d5d"
   },
   "outputs": [],
   "source": [
    "train.info()"
   ]
  },
  {
   "cell_type": "markdown",
   "metadata": {
    "_uuid": "d7d02ce090abd109eea2a3023dd97f5f1490a643"
   },
   "source": [
    "## No missing value finally. Now lets do type conversion"
   ]
  },
  {
   "cell_type": "code",
   "execution_count": null,
   "metadata": {
    "_uuid": "4e2012756fb9fc8686807e5f4920fd98bfca8b46"
   },
   "outputs": [],
   "source": [
    "def func(x):\n",
    "    if(x.dtype=='O'):\n",
    "        x=x.astype('category')\n",
    "    return(x)"
   ]
  },
  {
   "cell_type": "code",
   "execution_count": null,
   "metadata": {
    "_uuid": "e20e8fdd4f9cc1989a68c91a0bdf56e41c86067a"
   },
   "outputs": [],
   "source": [
    "train=train.apply(func,axis=0)"
   ]
  },
  {
   "cell_type": "code",
   "execution_count": null,
   "metadata": {
    "_uuid": "e234da77ded3a637eeefef2cde6a5b09187e3797"
   },
   "outputs": [],
   "source": [
    "train.info()"
   ]
  },
  {
   "cell_type": "code",
   "execution_count": null,
   "metadata": {
    "_uuid": "e93f9d07e53644352ac4c0cf443d7c8e8ab01f5e"
   },
   "outputs": [],
   "source": [
    "train.members=train.members.astype('category')\n",
    "train.Survived=train.Survived.astype('category')\n",
    "train.Pclass=train.Pclass.astype('category')\n",
    "train.Age=train.Age.astype('int64')"
   ]
  },
  {
   "cell_type": "code",
   "execution_count": null,
   "metadata": {
    "_uuid": "eca9221616bd2d4b4f5f21f4e7993e56d888f5ef"
   },
   "outputs": [],
   "source": [
    "train.info()"
   ]
  },
  {
   "cell_type": "markdown",
   "metadata": {
    "_uuid": "f3f4616d2882d640a08f926b509a85d074ee2cc3"
   },
   "source": [
    "## Now lets convert categorical values into dummy variable and Scaling "
   ]
  },
  {
   "cell_type": "code",
   "execution_count": null,
   "metadata": {
    "_uuid": "d1c9f35f7a1f10405d8dca915d3ba947d5084764"
   },
   "outputs": [],
   "source": [
    "df_label=train.Survived\n",
    "del train['Survived']\n",
    "df=pd.get_dummies(train)"
   ]
  },
  {
   "cell_type": "code",
   "execution_count": null,
   "metadata": {
    "_uuid": "4a61286cf7d66079b8745dd9c7b2b256fd6b57cd"
   },
   "outputs": [],
   "source": [
    "from sklearn.preprocessing import StandardScaler"
   ]
  },
  {
   "cell_type": "code",
   "execution_count": null,
   "metadata": {
    "_uuid": "bba8b725140f67ec1a643468ffcf9071116a78b9"
   },
   "outputs": [],
   "source": [
    "scaled=StandardScaler().fit_transform(df)\n",
    "df=pd.DataFrame(scaled,index=df.index,columns=df.columns)\n"
   ]
  },
  {
   "cell_type": "code",
   "execution_count": null,
   "metadata": {
    "_uuid": "38279ce783cfe89a66c44468640d9c2c39901b98"
   },
   "outputs": [],
   "source": [
    "df=pd.concat([df,df_label],axis=1)"
   ]
  },
  {
   "cell_type": "code",
   "execution_count": null,
   "metadata": {
    "_uuid": "fbbfe5e040e20b738ae55105cdc48fe4c0cc21da"
   },
   "outputs": [],
   "source": [
    "df.head()"
   ]
  },
  {
   "cell_type": "markdown",
   "metadata": {
    "_uuid": "d0901eca7ecae2bf2e655a1cb8035488b03d42b5"
   },
   "source": [
    "# Now our data is ready now its time to use it for model building and prediction"
   ]
  },
  {
   "cell_type": "code",
   "execution_count": null,
   "metadata": {
    "_uuid": "f5ac08f88af3b2ee1546ea15471c9c78fd66e644"
   },
   "outputs": [],
   "source": [
    "from sklearn.model_selection import  train_test_split"
   ]
  },
  {
   "cell_type": "code",
   "execution_count": null,
   "metadata": {
    "_uuid": "5466ca475d08a4e6e539af19e1a56d7b7c40233f"
   },
   "outputs": [],
   "source": [
    "train,test= train_test_split(df,test_size=0.25,random_state=43)"
   ]
  },
  {
   "cell_type": "code",
   "execution_count": null,
   "metadata": {
    "_uuid": "118e963d5885255a34db08baca781f96354aa064"
   },
   "outputs": [],
   "source": [
    "train_label=train.Survived\n",
    "test_label=test.Survived\n",
    "del train['Survived']\n",
    "del test['Survived']"
   ]
  },
  {
   "cell_type": "markdown",
   "metadata": {
    "_uuid": "1904c336e2c9402e688b4627a5a145d6bc637cc7"
   },
   "source": [
    "# 1. Linear Classifier"
   ]
  },
  {
   "cell_type": "code",
   "execution_count": null,
   "metadata": {
    "_uuid": "a8c7de5bcedab4753382ffeaacf44d88d23df42f"
   },
   "outputs": [],
   "source": [
    "from sklearn.metrics import confusion_matrix\n",
    "from sklearn.metrics import accuracy_score\n",
    "from sklearn.model_selection import cross_val_predict"
   ]
  },
  {
   "cell_type": "code",
   "execution_count": null,
   "metadata": {
    "_uuid": "bc47d0b70a664ffea6e7bf2de70c8677a3f47e29"
   },
   "outputs": [],
   "source": [
    "from sklearn.linear_model import SGDClassifier\n",
    "sgd=SGDClassifier(n_iter=50,penalty='l2')\n",
    "score=cross_val_predict(sgd,train,train_label,cv=10)\n",
    "confusion_matrix(train_label,score)"
   ]
  },
  {
   "cell_type": "code",
   "execution_count": null,
   "metadata": {
    "_uuid": "864b6cd1c1d9dc0b7a9af2a03a7010f317cc0ea3"
   },
   "outputs": [],
   "source": [
    "from sklearn.metrics import accuracy_score\n",
    "acc_lc=accuracy_score(train_label,score)\n",
    "acc_lc"
   ]
  },
  {
   "cell_type": "markdown",
   "metadata": {
    "_uuid": "47fcd18e84e1b18a50ae37e451b751118e988ccb"
   },
   "source": [
    "# 2. logistic Regression"
   ]
  },
  {
   "cell_type": "code",
   "execution_count": null,
   "metadata": {
    "_uuid": "f94a7c8bce6414a968d56c40c254811648669abb"
   },
   "outputs": [],
   "source": [
    "from sklearn.linear_model import LogisticRegression\n",
    "lr=LogisticRegression()\n",
    "score=cross_val_predict(lr,train,train_label,cv=10)\n",
    "confusion_matrix(train_label,score)"
   ]
  },
  {
   "cell_type": "code",
   "execution_count": null,
   "metadata": {
    "_uuid": "00da46e1dc1fb2c64d31ccf66ccf208a0fa0321c"
   },
   "outputs": [],
   "source": [
    "from sklearn.metrics import accuracy_score\n",
    "acc_lr=accuracy_score(train_label,score)\n",
    "acc_lr"
   ]
  },
  {
   "cell_type": "markdown",
   "metadata": {
    "_uuid": "7c19baa1316911b1506ec1abb71e42e61e1cd9cd"
   },
   "source": [
    "# 3. Decision Tree"
   ]
  },
  {
   "cell_type": "code",
   "execution_count": null,
   "metadata": {
    "_uuid": "1517cd26784c43d5007927455a7305abccbee90b"
   },
   "outputs": [],
   "source": [
    "from sklearn.tree import DecisionTreeClassifier\n",
    "dtc=DecisionTreeClassifier()\n",
    "score=cross_val_predict(dtc,train,train_label,cv=10)\n",
    "confusion_matrix(train_label,score)"
   ]
  },
  {
   "cell_type": "code",
   "execution_count": null,
   "metadata": {
    "_uuid": "2353b81d1dd41f1831bf8bbf7d08dd2950ad5f9d"
   },
   "outputs": [],
   "source": [
    "acc_dtc=accuracy_score(train_label,score)\n",
    "acc_dtc"
   ]
  },
  {
   "cell_type": "markdown",
   "metadata": {
    "_uuid": "faab5f2fb02d0dae09232361285b4d9d6a6e1d9d"
   },
   "source": [
    "# 4. SVM"
   ]
  },
  {
   "cell_type": "code",
   "execution_count": null,
   "metadata": {
    "_uuid": "3109a998836b56eccf3a0e01b08cbc6f38cf16a1"
   },
   "outputs": [],
   "source": [
    "from sklearn.svm import SVC\n",
    "svm=SVC(kernel='rbf',C=50)\n",
    "score=cross_val_predict(svm,train,train_label,cv=10)\n",
    "confusion_matrix(train_label,score)"
   ]
  },
  {
   "cell_type": "code",
   "execution_count": null,
   "metadata": {
    "_uuid": "ce0388c401999474c0e379910b601731cb2ab3de"
   },
   "outputs": [],
   "source": [
    "acc_svm=accuracy_score(train_label,score)\n",
    "acc_svm"
   ]
  },
  {
   "cell_type": "markdown",
   "metadata": {
    "_uuid": "2869996d5f20a2fa225b41002607f1d296c53e31"
   },
   "source": [
    "# 5.Random Forest"
   ]
  },
  {
   "cell_type": "code",
   "execution_count": null,
   "metadata": {
    "_uuid": "df5c74d2f20bf1182517156842340d82e2f8e640"
   },
   "outputs": [],
   "source": [
    "from sklearn.ensemble import RandomForestClassifier\n",
    "rf=RandomForestClassifier(n_estimators=300,max_depth=4)\n",
    "score=cross_val_predict(rf,train,train_label,cv=10)\n",
    "confusion_matrix(train_label,score)"
   ]
  },
  {
   "cell_type": "code",
   "execution_count": null,
   "metadata": {
    "_uuid": "a03c5f34a3626c15fbf617a0e4586e6b1d47eec6"
   },
   "outputs": [],
   "source": [
    "acc_rf=accuracy_score(train_label,score)\n",
    "acc_rf"
   ]
  },
  {
   "cell_type": "markdown",
   "metadata": {
    "_uuid": "995246aa83b5517b60d2296232f9cf7f13913b2a"
   },
   "source": [
    "## From Above Classification algorithm we can say that Logistic Regression and Random forest is performing  than any other algorithm. So now lets use Grid Search to get more optimal Hyper parameters"
   ]
  },
  {
   "cell_type": "markdown",
   "metadata": {
    "_uuid": "df2a105f4ba86188db7a058a2639bd184bec2893"
   },
   "source": [
    "# GRID Search on Random Forest"
   ]
  },
  {
   "cell_type": "code",
   "execution_count": null,
   "metadata": {
    "_uuid": "40e1c047b671de4b0a4191e5c271238ffc334a15"
   },
   "outputs": [],
   "source": [
    "from sklearn.model_selection import GridSearchCV\n",
    "param=[{'max_depth':[3,4,5,6],'min_samples_split':[20,30,40,50,60],'min_samples_leaf':[8,10,20,30]\n",
    "       ,'max_features':[15,20,22],'max_leaf_nodes':[6,8,10,14,18]}]\n",
    "grid=GridSearchCV(RandomForestClassifier(),param,cv=5)\n",
    "grid.fit(train,train_label)\n",
    "grid.best_params_"
   ]
  },
  {
   "cell_type": "markdown",
   "metadata": {
    "_uuid": "388b3e898477b26c5515d45e42f85f9c9fdcaf75"
   },
   "source": [
    "# 6.Using this hyper parameter lets train RandomForerst again"
   ]
  },
  {
   "cell_type": "code",
   "execution_count": null,
   "metadata": {
    "_uuid": "e37ea25437fe9184c99e9ea7e57c4d381051d510"
   },
   "outputs": [],
   "source": [
    "rf=RandomForestClassifier(n_estimators=300, \n",
    "                          max_depth=grid.best_params_['max_depth'],\n",
    "                          max_features=grid.best_params_['max_features'],\n",
    "                          max_leaf_nodes=grid.best_params_['max_leaf_nodes'],\n",
    "                          min_samples_leaf=grid.best_params_['min_samples_leaf'],\n",
    "                          min_samples_split=grid.best_params_['min_samples_split'])\n",
    "score=cross_val_predict(rf,train,train_label,cv=10)\n",
    "confusion_matrix(train_label,score)"
   ]
  },
  {
   "cell_type": "code",
   "execution_count": null,
   "metadata": {
    "_uuid": "519b17dabf4023ebb7621eefd3fadd6a48d3a4e0"
   },
   "outputs": [],
   "source": [
    "acc_rf_grid=accuracy_score(train_label,score)\n",
    "acc_rf_grid"
   ]
  },
  {
   "cell_type": "markdown",
   "metadata": {
    "_uuid": "a8f50b4e22a245b1508240c2fd8500993f294e2a"
   },
   "source": [
    "# 7.Voting Classifier"
   ]
  },
  {
   "cell_type": "code",
   "execution_count": null,
   "metadata": {
    "_uuid": "f9b9751067c84081d1f6bafddc43c269dc13e427"
   },
   "outputs": [],
   "source": [
    "from sklearn.ensemble import VotingClassifier\n",
    "vc=VotingClassifier(estimators=[('sgd',SGDClassifier()),('rf',RandomForestClassifier(n_estimators=300)),\n",
    "                                ('lr',LogisticRegression())],voting='hard')\n",
    "score=cross_val_predict(vc,train,train_label,cv=10)\n",
    "confusion_matrix(train_label,score)"
   ]
  },
  {
   "cell_type": "code",
   "execution_count": null,
   "metadata": {
    "_uuid": "49d1df55116ad01d70cf6285ed107305f2af32d5"
   },
   "outputs": [],
   "source": [
    "acc_vc=accuracy_score(train_label,score)\n",
    "acc_vc"
   ]
  },
  {
   "cell_type": "markdown",
   "metadata": {
    "_uuid": "80ce45eeb21fe27857ed2e259400363d7846c961"
   },
   "source": [
    "# 8. ADA BOOSTING"
   ]
  },
  {
   "cell_type": "code",
   "execution_count": null,
   "metadata": {
    "_uuid": "b4a81855e0618ce3347bf71f2dc9a642b81d1050"
   },
   "outputs": [],
   "source": [
    "from sklearn.ensemble import AdaBoostClassifier\n",
    "ada=AdaBoostClassifier(DecisionTreeClassifier(max_depth=4),n_estimators=400,\n",
    "algorithm='SAMME.R',learning_rate=0.01)\n",
    "score=cross_val_predict(ada,train,train_label,cv=10)\n",
    "confusion_matrix(train_label,score)"
   ]
  },
  {
   "cell_type": "code",
   "execution_count": null,
   "metadata": {
    "_uuid": "21e7ed366234621a7bfacfa3c99659b79eef4bd9"
   },
   "outputs": [],
   "source": [
    "acc_ada=accuracy_score(train_label,score)\n",
    "acc_ada"
   ]
  },
  {
   "cell_type": "markdown",
   "metadata": {
    "_uuid": "d875ae6ab897505755c1cc72aa2c8b101325cd8a"
   },
   "source": [
    "# 9. Gradient Boosting"
   ]
  },
  {
   "cell_type": "code",
   "execution_count": null,
   "metadata": {
    "_uuid": "8390d255059d26881e58d3095084057115f508da"
   },
   "outputs": [],
   "source": [
    "from sklearn.ensemble import GradientBoostingClassifier\n",
    "gb=GradientBoostingClassifier(n_estimators=400,\n",
    "                          max_depth=grid.best_params_['max_depth'],\n",
    "                          max_features=grid.best_params_['max_features'],\n",
    "                          max_leaf_nodes=grid.best_params_['max_leaf_nodes'],\n",
    "                          min_samples_leaf=grid.best_params_['min_samples_leaf'],\n",
    "                          min_samples_split=grid.best_params_['min_samples_split'],learning_rate=0.001)\n",
    "score=cross_val_predict(gb,train,train_label,cv=10)\n",
    "confusion_matrix(train_label,score)"
   ]
  },
  {
   "cell_type": "code",
   "execution_count": null,
   "metadata": {
    "_uuid": "bf12e9bc3aa9ac079f2ca949a1850a9e52652024"
   },
   "outputs": [],
   "source": [
    "acc_gb=accuracy_score(train_label,score)\n",
    "acc_gb"
   ]
  },
  {
   "cell_type": "markdown",
   "metadata": {
    "_uuid": "929065daa5ec9a4733d6c9e4f70eb25573784fe7"
   },
   "source": [
    "# 10. Bagging And Pasting"
   ]
  },
  {
   "cell_type": "code",
   "execution_count": null,
   "metadata": {
    "_uuid": "3fb2de34a6767c1e53961786576f3e04f766f09b"
   },
   "outputs": [],
   "source": [
    "from sklearn.ensemble import BaggingClassifier\n",
    "bp=BaggingClassifier(DecisionTreeClassifier(max_depth=grid.best_params_['max_depth'],\n",
    "                          max_features=grid.best_params_['max_features'],\n",
    "                          max_leaf_nodes=grid.best_params_['max_leaf_nodes'],\n",
    "                          min_samples_leaf=grid.best_params_['min_samples_leaf'],\n",
    "                          min_samples_split=grid.best_params_['min_samples_split']),\n",
    "                            n_estimators=300, bootstrap=True ,n_jobs=-1 )\n",
    "score=cross_val_predict(bp,train,train_label,cv=10)\n",
    "confusion_matrix(train_label,score)"
   ]
  },
  {
   "cell_type": "code",
   "execution_count": null,
   "metadata": {
    "_uuid": "3a11e44363f94b48ad53a66ef8dd7de306811e25"
   },
   "outputs": [],
   "source": [
    "acc_bp=accuracy_score(train_label,score)\n",
    "acc_bp"
   ]
  },
  {
   "cell_type": "code",
   "execution_count": null,
   "metadata": {
    "_uuid": "d03cc34f5756efa49927aac9011dfd59a29617fa"
   },
   "outputs": [],
   "source": [
    "pd.DataFrame([acc_lr*100,acc_lr*100,acc_svm*100,acc_dtc*100,acc_rf*100,\n",
    "             acc_rf_grid*100,acc_vc*100,acc_ada*100,acc_gb*100,acc_bp*100],\n",
    "            index=['SGD','Logistic','SVM','Decision Tree','Random Forest',\n",
    "                  'Random Forest with Hyper parameter','Voting Classifier',\n",
    "                  'ADA boost','Gradient Boost','Bagging and pasting'])"
   ]
  },
  {
   "cell_type": "markdown",
   "metadata": {
    "_uuid": "50ee5f5e96af6696acec6b8b9215965ecdd25bcb"
   },
   "source": []
  },
  {
   "cell_type": "markdown",
   "metadata": {
    "_uuid": "dd218a2b61497de2e480f9ac7c1be37c17bd25d8"
   },
   "source": [
    "# Thanks. Please give your suggestion and upvote it if you like it "
   ]
  }
 ],
 "metadata": {
  "kernelspec": {
   "display_name": "Python 3",
   "language": "python",
   "name": "python3"
  },
  "language_info": {
   "codemirror_mode": {
    "name": "ipython",
    "version": 3
   },
   "file_extension": ".py",
   "mimetype": "text/x-python",
   "name": "python",
   "nbconvert_exporter": "python",
   "pygments_lexer": "ipython3",
   "version": "3.7.0"
  }
 },
 "nbformat": 4,
 "nbformat_minor": 1
}
